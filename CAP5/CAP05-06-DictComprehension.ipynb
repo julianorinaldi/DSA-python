{
 "cells": [
  {
   "cell_type": "markdown",
   "metadata": {},
   "source": [
    "# Dict Comprehension"
   ]
  },
  {
   "cell_type": "code",
   "execution_count": 2,
   "metadata": {},
   "outputs": [
    {
     "name": "stdout",
     "output_type": "stream",
     "text": [
      "{'Bob': 'Reprovado 68<70', 'Michel': 'Aprovado 84>70', 'Zico': 'Reprovado 57<70', 'Ana': 'Aprovado 93>70'}\n"
     ]
    }
   ],
   "source": [
    "# Dict comprehension\n",
    "# Diciondrio de alunos e notas\n",
    "dict_alunos = {'Bob': 68, 'Michel': 84, 'Zico': 57, 'Ana': 93}\n",
    "# Criamos um novo diciondrio com o status: nota maior que 70, aprovado, sendo, reprovado\n",
    "dict_alunos_status = {k:(f'Aprovado {v}>70' if v > 70 else f'Reprovado {v}<70') for (k, v) in dict_alunos.items()}\n",
    "print(dict_alunos_status)"
   ]
  }
 ],
 "metadata": {
  "kernelspec": {
   "display_name": "DSA-python",
   "language": "python",
   "name": "python3"
  },
  "language_info": {
   "codemirror_mode": {
    "name": "ipython",
    "version": 3
   },
   "file_extension": ".py",
   "mimetype": "text/x-python",
   "name": "python",
   "nbconvert_exporter": "python",
   "pygments_lexer": "ipython3",
   "version": "3.10.10"
  }
 },
 "nbformat": 4,
 "nbformat_minor": 2
}
