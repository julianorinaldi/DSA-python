{
 "cells": [
  {
   "cell_type": "markdown",
   "metadata": {},
   "source": [
    "# Conhecendo os Loops em Python"
   ]
  },
  {
   "cell_type": "code",
   "execution_count": 1,
   "metadata": {},
   "outputs": [
    {
     "name": "stdout",
     "output_type": "stream",
     "text": [
      "1\n",
      "2\n",
      "3\n",
      "4\n",
      "5\n",
      "6\n"
     ]
    }
   ],
   "source": [
    "tupla = (1,2,3,4,5,6)\n",
    "for i in tupla:\n",
    "    print(i)"
   ]
  },
  {
   "cell_type": "code",
   "execution_count": 5,
   "metadata": {},
   "outputs": [
    {
     "name": "stdout",
     "output_type": "stream",
     "text": [
      "5\n",
      "6\n",
      "7\n",
      "8\n",
      "9\n",
      "------------------Next------------------\n",
      "0\n",
      "2\n",
      "4\n",
      "6\n",
      "8\n"
     ]
    }
   ],
   "source": [
    "# range faz uma seleção de valores (início, fim exlusivo, passo/salto) \n",
    "for i in range(5,10):\n",
    "    print(i)\n",
    "\n",
    "print(str.center('Next',40,'-'))\n",
    "\n",
    "for i in range(0,10,2):\n",
    "    print(i)\n"
   ]
  },
  {
   "cell_type": "code",
   "execution_count": 7,
   "metadata": {},
   "outputs": [
    {
     "data": {
      "text/plain": [
       "True"
      ]
     },
     "execution_count": 7,
     "metadata": {},
     "output_type": "execute_result"
    }
   ],
   "source": [
    "lista1 = [1,2,3,4,5]\n",
    "lista2 = [5,6,7,8,9]\n",
    "\n",
    "# Isso é mais fácil para verificar se tem o número na lista.\n",
    "5 in lista1 and 5 in lista2"
   ]
  },
  {
   "cell_type": "code",
   "execution_count": 8,
   "metadata": {},
   "outputs": [
    {
     "name": "stdout",
     "output_type": "stream",
     "text": [
      "[1, 2, 3, 4, 5]\n",
      "[5, 6, 7, 8, 9]\n"
     ]
    }
   ],
   "source": [
    "# For sobre uma lista de listas, cada loop é um item (lista)\n",
    "for lista in [lista1, lista2]:\n",
    "    print(lista)"
   ]
  },
  {
   "cell_type": "code",
   "execution_count": 12,
   "metadata": {},
   "outputs": [
    {
     "name": "stdout",
     "output_type": "stream",
     "text": [
      "Nome\n",
      "Idade\n",
      "Peso\n",
      "------------------Next------------------\n",
      "('Nome', 'Juliano')\n",
      "('Idade', 37)\n",
      "('Peso', 124.5)\n",
      "------------------Next------------------\n",
      "Key: Nome - Value: Juliano\n",
      "Key: Idade - Value: 37\n",
      "Key: Peso - Value: 124.5\n"
     ]
    }
   ],
   "source": [
    "# Loop com dicionário\n",
    "dict1 = {\"Nome\":\"Juliano\", \"Idade\":37, \"Peso\": 124.5}\n",
    "\n",
    "# Caso use apenas o objeto no loop, padrão é revolver a KEY\n",
    "for i in dict1:\n",
    "    print(i)\n",
    "    \n",
    "print(str.center('Next',40,'-'))\n",
    "\n",
    "# Aqui devolve a tupla\n",
    "for i in dict1.items():\n",
    "    print(i)\n",
    "\n",
    "print(str.center('Next',40,'-'))\n",
    "\n",
    "# Aqui devolve a tupla\n",
    "for i,z in dict1.items():\n",
    "    print(f'Key: {i} - Value: {z}')\n"
   ]
  }
 ],
 "metadata": {
  "kernelspec": {
   "display_name": "DSA-python",
   "language": "python",
   "name": "python3"
  },
  "language_info": {
   "codemirror_mode": {
    "name": "ipython",
    "version": 3
   },
   "file_extension": ".py",
   "mimetype": "text/x-python",
   "name": "python",
   "nbconvert_exporter": "python",
   "pygments_lexer": "ipython3",
   "version": "3.10.10"
  }
 },
 "nbformat": 4,
 "nbformat_minor": 2
}
