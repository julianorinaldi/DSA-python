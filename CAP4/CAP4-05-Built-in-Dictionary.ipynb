{
 "cells": [
  {
   "cell_type": "markdown",
   "metadata": {},
   "source": [
    "# Built-in Dictionary"
   ]
  },
  {
   "cell_type": "code",
   "execution_count": 6,
   "metadata": {},
   "outputs": [
    {
     "name": "stdout",
     "output_type": "stream",
     "text": [
      "{'Nome': 'Juliano'}\n",
      "<class 'dict'>\n",
      "Key: dict_keys(['Nome'])\n",
      "Value: dict_values(['Juliano'])\n"
     ]
    }
   ],
   "source": [
    "# Dicionários são declarados com {}\n",
    "dict1 = {'Nome': 'Juliano'}\n",
    "print(dict1)\n",
    "print(type(dict1))\n",
    "print(f'Key: {dict1.keys()}')\n",
    "print(f'Value: {dict1.values()}')"
   ]
  },
  {
   "cell_type": "markdown",
   "metadata": {},
   "source": [
    "Limpando um dicionário e após, deletando uma variável de memória"
   ]
  },
  {
   "cell_type": "code",
   "execution_count": 9,
   "metadata": {},
   "outputs": [
    {
     "name": "stdout",
     "output_type": "stream",
     "text": [
      "{'Nome': 'Juliano'}\n",
      "{}\n"
     ]
    },
    {
     "ename": "NameError",
     "evalue": "name 'dict2' is not defined",
     "output_type": "error",
     "traceback": [
      "\u001b[0;31m---------------------------------------------------------------------------\u001b[0m",
      "\u001b[0;31mNameError\u001b[0m                                 Traceback (most recent call last)",
      "\u001b[1;32m/home/julianorinaldi/source/DSA/DSA-python/CAP4/CAP4-05-Built-in-Dictionary.ipynb Cell 4\u001b[0m line \u001b[0;36m6\n\u001b[1;32m      <a href='vscode-notebook-cell:/home/julianorinaldi/source/DSA/DSA-python/CAP4/CAP4-05-Built-in-Dictionary.ipynb#W3sZmlsZQ%3D%3D?line=3'>4</a>\u001b[0m \u001b[39mprint\u001b[39m(dict2)\n\u001b[1;32m      <a href='vscode-notebook-cell:/home/julianorinaldi/source/DSA/DSA-python/CAP4/CAP4-05-Built-in-Dictionary.ipynb#W3sZmlsZQ%3D%3D?line=4'>5</a>\u001b[0m \u001b[39mdel\u001b[39;00m dict2\n\u001b[0;32m----> <a href='vscode-notebook-cell:/home/julianorinaldi/source/DSA/DSA-python/CAP4/CAP4-05-Built-in-Dictionary.ipynb#W3sZmlsZQ%3D%3D?line=5'>6</a>\u001b[0m \u001b[39mprint\u001b[39m(dict2)\n",
      "\u001b[0;31mNameError\u001b[0m: name 'dict2' is not defined"
     ]
    }
   ],
   "source": [
    "dict2 = dict({'Nome': 'Juliano'})\n",
    "print(dict2)\n",
    "dict2.clear()\n",
    "print(dict2)\n",
    "del dict2\n",
    "print(dict2)"
   ]
  }
 ],
 "metadata": {
  "kernelspec": {
   "display_name": "DSA-python",
   "language": "python",
   "name": "python3"
  },
  "language_info": {
   "codemirror_mode": {
    "name": "ipython",
    "version": 3
   },
   "file_extension": ".py",
   "mimetype": "text/x-python",
   "name": "python",
   "nbconvert_exporter": "python",
   "pygments_lexer": "ipython3",
   "version": "3.10.10"
  }
 },
 "nbformat": 4,
 "nbformat_minor": 2
}
