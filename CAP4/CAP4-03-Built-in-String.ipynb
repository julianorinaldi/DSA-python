{
 "cells": [
  {
   "cell_type": "markdown",
   "metadata": {},
   "source": [
    "# Funções Build-In da linguagem Python"
   ]
  },
  {
   "cell_type": "code",
   "execution_count": 1,
   "metadata": {},
   "outputs": [],
   "source": [
    "s = \"Texto\""
   ]
  },
  {
   "cell_type": "markdown",
   "metadata": {},
   "source": [
    "str.capitalize(): Retorna uma cópia da string com o primeiro caractere em maiúscula."
   ]
  },
  {
   "cell_type": "code",
   "execution_count": 2,
   "metadata": {},
   "outputs": [
    {
     "name": "stdout",
     "output_type": "stream",
     "text": [
      "Olá, mundo!\n"
     ]
    }
   ],
   "source": [
    "# str.capitalize()\n",
    "texto = \"olá, mundo!\"\n",
    "resultado = texto.capitalize()\n",
    "print(resultado)  # Saída: \"Olá, mundo!\""
   ]
  },
  {
   "cell_type": "markdown",
   "metadata": {},
   "source": [
    "str.casefold(): Retorna uma versão em minúsculas da string, aplicando regras de equivalência de caracteres para tornar a comparação de strings insensível a maiúsculas e minúsculas."
   ]
  },
  {
   "cell_type": "code",
   "execution_count": 3,
   "metadata": {},
   "outputs": [
    {
     "name": "stdout",
     "output_type": "stream",
     "text": [
      "olá, mundo!\n"
     ]
    }
   ],
   "source": [
    "# str.casefold()\n",
    "texto = \"Olá, Mundo!\"\n",
    "resultado = texto.casefold()\n",
    "print(resultado)  # Saída: \"olá, mundo!\""
   ]
  },
  {
   "cell_type": "markdown",
   "metadata": {},
   "source": [
    "str.center(width[, fillchar]): Retorna uma cópia da string centralizada em uma largura de campo especificada. Preenche com caracteres opcionais fillchar (espaço por padrão) ao redor da string."
   ]
  },
  {
   "cell_type": "code",
   "execution_count": 4,
   "metadata": {},
   "outputs": [
    {
     "name": "stdout",
     "output_type": "stream",
     "text": [
      "*******Python*******\n"
     ]
    }
   ],
   "source": [
    "# str.center(width[, fillchar])\n",
    "texto = \"Python\"\n",
    "resultado = texto.center(20, '*')\n",
    "print(resultado)  # Saída: \"**Python**\""
   ]
  },
  {
   "cell_type": "markdown",
   "metadata": {},
   "source": [
    "str.count(sub[, start[, end]]): Conta o número de ocorrências da substring sub na string."
   ]
  },
  {
   "cell_type": "code",
   "execution_count": 5,
   "metadata": {},
   "outputs": [
    {
     "name": "stdout",
     "output_type": "stream",
     "text": [
      "3\n"
     ]
    }
   ],
   "source": [
    "# str.count(sub[, start[, end]])\n",
    "texto = \"banana\"\n",
    "ocorrencias = texto.count('a')\n",
    "print(ocorrencias)  # Saída: 3"
   ]
  },
  {
   "cell_type": "markdown",
   "metadata": {},
   "source": [
    "str.encode(encoding='utf-8', errors='strict'): Retorna uma versão codificada da string usando a codificação especificada."
   ]
  },
  {
   "cell_type": "code",
   "execution_count": 6,
   "metadata": {},
   "outputs": [
    {
     "name": "stdout",
     "output_type": "stream",
     "text": [
      "b'Ol\\xc3\\xa1, Mundo!'\n"
     ]
    }
   ],
   "source": [
    "# str.encode(encoding='utf-8', errors='strict')\n",
    "texto = \"Olá, Mundo!\"\n",
    "resultado = texto.encode(encoding='utf-8')\n",
    "print(resultado)  # Saída: b'Olá, Mundo!'"
   ]
  },
  {
   "cell_type": "markdown",
   "metadata": {},
   "source": [
    "str.endswith(suffix[, start[, end]]): Verifica se a string termina com o sufixo especificado."
   ]
  },
  {
   "cell_type": "code",
   "execution_count": 7,
   "metadata": {},
   "outputs": [
    {
     "name": "stdout",
     "output_type": "stream",
     "text": [
      "True\n"
     ]
    }
   ],
   "source": [
    "# str.endswith(suffix[, start[, end]])\n",
    "texto = \"Olá, Mundo!\"\n",
    "resultado = texto.endswith('Mundo!')\n",
    "print(resultado)  # Saída: True"
   ]
  },
  {
   "cell_type": "markdown",
   "metadata": {},
   "source": [
    "str.expandtabs(tabsize=8): Expande os caracteres de tabulação ('\\t') em espaços. O tamanho da tabulação padrão é 8."
   ]
  },
  {
   "cell_type": "code",
   "execution_count": 10,
   "metadata": {},
   "outputs": [
    {
     "name": "stdout",
     "output_type": "stream",
     "text": [
      "Python              Programming         With Jupyter        Notebook\n"
     ]
    }
   ],
   "source": [
    "# str.expandtabs(tabsize=8)\n",
    "texto = \"Python\\tProgramming\\tWith Jupyter\\tNotebook\"\n",
    "resultado = texto.expandtabs(20)\n",
    "print(resultado)  # Saída: \"Python  Programming\""
   ]
  },
  {
   "cell_type": "markdown",
   "metadata": {},
   "source": [
    "str.find(sub[, start[, end]]): Retorna o menor índice na string onde a substring sub é encontrada. Retorna -1 se sub não for encontrado."
   ]
  },
  {
   "cell_type": "code",
   "execution_count": 11,
   "metadata": {},
   "outputs": [
    {
     "name": "stdout",
     "output_type": "stream",
     "text": [
      "7\n"
     ]
    }
   ],
   "source": [
    "# str.find(sub[, start[, end]])\n",
    "texto = \"Hello, World!\"\n",
    "indice = texto.find('World')\n",
    "print(indice)  # Saída: 7"
   ]
  },
  {
   "cell_type": "markdown",
   "metadata": {},
   "source": [
    "str.format(*args, **kwargs): Permite a formatação de strings, substituindo marcadores de posição por valores fornecidos."
   ]
  },
  {
   "cell_type": "code",
   "execution_count": 12,
   "metadata": {},
   "outputs": [
    {
     "name": "stdout",
     "output_type": "stream",
     "text": [
      "Olá, meu nome é Alice e eu tenho 30 anos.\n"
     ]
    }
   ],
   "source": [
    "# str.format(*args, **kwargs)\n",
    "nome = \"Alice\"\n",
    "idade = 30\n",
    "mensagem = \"Olá, meu nome é {} e eu tenho {} anos.\".format(nome, idade)\n",
    "print(mensagem)  # Saída: \"Olá, meu nome é Alice e eu tenho 30 anos.\"\n"
   ]
  },
  {
   "cell_type": "markdown",
   "metadata": {},
   "source": [
    "str.format_map(mapping): Similar a str.format, mas usa um mapeamento de palavras-chave como argumento."
   ]
  },
  {
   "cell_type": "code",
   "execution_count": null,
   "metadata": {},
   "outputs": [],
   "source": [
    "# str.format_map(mapping)\n",
    "dados = {'nome': 'Bob', 'idade': 25}\n",
    "mensagem = \"Olá, meu nome é {nome} e eu tenho {idade} anos.\".format_map(dados)\n",
    "print(mensagem)  # Saída: \"Olá, meu nome é Bob e eu tenho 25 anos.\"\n"
   ]
  },
  {
   "cell_type": "markdown",
   "metadata": {},
   "source": [
    "str.index(sub[, start[, end]]): Similar a str.find, mas gera uma exceção ValueError se sub não for encontrado."
   ]
  },
  {
   "cell_type": "code",
   "execution_count": 14,
   "metadata": {},
   "outputs": [
    {
     "name": "stdout",
     "output_type": "stream",
     "text": [
      "7\n"
     ]
    },
    {
     "ename": "ValueError",
     "evalue": "substring not found",
     "output_type": "error",
     "traceback": [
      "\u001b[0;31m---------------------------------------------------------------------------\u001b[0m",
      "\u001b[0;31mValueError\u001b[0m                                Traceback (most recent call last)",
      "\u001b[1;32m/home/julianorinaldi/source/DSA/DSA-python/CAP4/CAP4-03-Built-in.ipynb Cell 24\u001b[0m line \u001b[0;36m5\n\u001b[1;32m      <a href='vscode-notebook-cell:/home/julianorinaldi/source/DSA/DSA-python/CAP4/CAP4-03-Built-in.ipynb#X32sZmlsZQ%3D%3D?line=2'>3</a>\u001b[0m indice \u001b[39m=\u001b[39m texto\u001b[39m.\u001b[39mindex(\u001b[39m'\u001b[39m\u001b[39mWorld\u001b[39m\u001b[39m'\u001b[39m)\n\u001b[1;32m      <a href='vscode-notebook-cell:/home/julianorinaldi/source/DSA/DSA-python/CAP4/CAP4-03-Built-in.ipynb#X32sZmlsZQ%3D%3D?line=3'>4</a>\u001b[0m \u001b[39mprint\u001b[39m(indice)  \u001b[39m# Saída: 7\u001b[39;00m\n\u001b[0;32m----> <a href='vscode-notebook-cell:/home/julianorinaldi/source/DSA/DSA-python/CAP4/CAP4-03-Built-in.ipynb#X32sZmlsZQ%3D%3D?line=4'>5</a>\u001b[0m indice \u001b[39m=\u001b[39m texto\u001b[39m.\u001b[39;49mindex(\u001b[39m'\u001b[39;49m\u001b[39mX\u001b[39;49m\u001b[39m'\u001b[39;49m)\n\u001b[1;32m      <a href='vscode-notebook-cell:/home/julianorinaldi/source/DSA/DSA-python/CAP4/CAP4-03-Built-in.ipynb#X32sZmlsZQ%3D%3D?line=5'>6</a>\u001b[0m \u001b[39mprint\u001b[39m(indice)  \u001b[39m# Saída: 7\u001b[39;00m\n",
      "\u001b[0;31mValueError\u001b[0m: substring not found"
     ]
    }
   ],
   "source": [
    "# str.index(sub[, start[, end]])\n",
    "texto = \"Hello, World!\"\n",
    "indice = texto.index('World')\n",
    "print(indice)  # Saída: 7\n",
    "indice = texto.index('X')\n",
    "print(indice)  # ValueError: substring not found"
   ]
  },
  {
   "cell_type": "markdown",
   "metadata": {},
   "source": [
    "str.isalnum(): Retorna True se todos os caracteres na string são alfanuméricos."
   ]
  },
  {
   "cell_type": "code",
   "execution_count": 15,
   "metadata": {},
   "outputs": [
    {
     "name": "stdout",
     "output_type": "stream",
     "text": [
      "True\n",
      "False\n"
     ]
    }
   ],
   "source": [
    "# str.isalnum()\n",
    "texto1 = \"abc123\"\n",
    "texto2 = \"abc 123\"\n",
    "print(texto1.isalnum())  # Saída: True\n",
    "print(texto2.isalnum())  # Saída: False"
   ]
  },
  {
   "cell_type": "markdown",
   "metadata": {},
   "source": [
    "str.isalpha(): Retorna True se todos os caracteres na string são alfabéticos."
   ]
  },
  {
   "cell_type": "code",
   "execution_count": 18,
   "metadata": {},
   "outputs": [
    {
     "name": "stdout",
     "output_type": "stream",
     "text": [
      "True\n",
      "False\n",
      "False\n",
      "True\n"
     ]
    }
   ],
   "source": [
    "# str.isalpha()\n",
    "texto = \"abc\"\n",
    "texto1 = \"abc123\"\n",
    "texto2 = \"abc 123\"\n",
    "texto3 = \"XZY\"\n",
    "print(texto.isalpha())  # Saída: True\n",
    "print(texto1.isalpha())  # Saída: False\n",
    "print(texto2.isalpha())  # Saída: False\n",
    "print(texto3.isalpha())  # Saída: True"
   ]
  },
  {
   "cell_type": "markdown",
   "metadata": {},
   "source": [
    "str.isascii(): Retorna True se todos os caracteres na string são ASCII."
   ]
  },
  {
   "cell_type": "code",
   "execution_count": 19,
   "metadata": {},
   "outputs": [
    {
     "name": "stdout",
     "output_type": "stream",
     "text": [
      "True\n"
     ]
    }
   ],
   "source": [
    "# str.isascii()\n",
    "texto = \"Hello\"\n",
    "print(texto.isascii())  # Saída: True"
   ]
  },
  {
   "cell_type": "markdown",
   "metadata": {},
   "source": [
    "str.isdecimal(): Retorna True se todos os caracteres na string são dígitos decimais."
   ]
  },
  {
   "cell_type": "code",
   "execution_count": 22,
   "metadata": {},
   "outputs": [
    {
     "name": "stdout",
     "output_type": "stream",
     "text": [
      "True\n",
      "False\n",
      "False\n"
     ]
    }
   ],
   "source": [
    "# str.isdecimal()\n",
    "numero = \"12345\"\n",
    "numero1 = \"12345X\"\n",
    "numero2 = \"1.3\"\n",
    "print(numero.isdecimal())  # Saída: True\n",
    "print(numero1.isdecimal())  # Saída: False\n",
    "print(numero2.isdecimal())  # Saída: False"
   ]
  },
  {
   "cell_type": "markdown",
   "metadata": {},
   "source": [
    "str.isdigit(): Retorna True se todos os caracteres na string são dígitos."
   ]
  },
  {
   "cell_type": "code",
   "execution_count": 23,
   "metadata": {},
   "outputs": [
    {
     "name": "stdout",
     "output_type": "stream",
     "text": [
      "True\n",
      "False\n"
     ]
    }
   ],
   "source": [
    "# str.isdigit()\n",
    "numero = \"12345\"\n",
    "numero1 = \"12345X\"\n",
    "print(numero.isdigit())  # Saída: True\n",
    "print(numero1.isdigit())  # Saída: False"
   ]
  },
  {
   "cell_type": "markdown",
   "metadata": {},
   "source": [
    "str.isidentifier(): Retorna True se a string for um identificador válido em Python."
   ]
  },
  {
   "cell_type": "code",
   "execution_count": 26,
   "metadata": {},
   "outputs": [
    {
     "name": "stdout",
     "output_type": "stream",
     "text": [
      "True\n",
      "False\n"
     ]
    }
   ],
   "source": [
    "# str.isidentifier()\n",
    "identificador = \"variavel_1\"\n",
    "identificador1 = \"1_variavel_1\"\n",
    "print(identificador.isidentifier())  # Saída: True\n",
    "print(identificador1.isidentifier())  # Saída: False"
   ]
  },
  {
   "cell_type": "markdown",
   "metadata": {},
   "source": [
    "str.islower(): Retorna True se todos os caracteres na string estiverem em minúsculas."
   ]
  },
  {
   "cell_type": "code",
   "execution_count": 27,
   "metadata": {},
   "outputs": [
    {
     "name": "stdout",
     "output_type": "stream",
     "text": [
      "True\n",
      "False\n"
     ]
    }
   ],
   "source": [
    "# str.islower()\n",
    "texto1 = \"hello\"\n",
    "texto2 = \"Hello\"\n",
    "print(texto1.islower())  # Saída: True\n",
    "print(texto2.islower())  # Saída: False"
   ]
  },
  {
   "cell_type": "markdown",
   "metadata": {},
   "source": [
    "str.isnumeric(): Retorna True se todos os caracteres na string forem numéricos."
   ]
  },
  {
   "cell_type": "code",
   "execution_count": 29,
   "metadata": {},
   "outputs": [
    {
     "name": "stdout",
     "output_type": "stream",
     "text": [
      "True\n",
      "False\n"
     ]
    }
   ],
   "source": [
    "# str.isnumeric()\n",
    "numero = \"12345\"\n",
    "numero1 = \"123456.7\"\n",
    "print(numero.isnumeric())  # Saída: True\n",
    "print(numero1.isnumeric())  # Saída: False"
   ]
  },
  {
   "cell_type": "markdown",
   "metadata": {},
   "source": [
    "str.isprintable(): Retorna True se todos os caracteres na string são imprimíveis."
   ]
  },
  {
   "cell_type": "code",
   "execution_count": 30,
   "metadata": {},
   "outputs": [
    {
     "name": "stdout",
     "output_type": "stream",
     "text": [
      "False\n",
      "True\n"
     ]
    }
   ],
   "source": [
    "# str.isprintable()\n",
    "texto1 = \"Hello\\nWorld\"\n",
    "texto2 = \"Hello World\"\n",
    "print(texto1.isprintable())  # Saída: False\n",
    "print(texto2.isprintable())  # Saída: True"
   ]
  },
  {
   "cell_type": "markdown",
   "metadata": {},
   "source": [
    "str.isspace(): Retorna True se todos os caracteres na string são espaços em branco."
   ]
  },
  {
   "cell_type": "code",
   "execution_count": 31,
   "metadata": {},
   "outputs": [
    {
     "name": "stdout",
     "output_type": "stream",
     "text": [
      "True\n"
     ]
    }
   ],
   "source": [
    "# str.isspace()\n",
    "espaco = \"    \"\n",
    "print(espaco.isspace())  # Saída: True"
   ]
  },
  {
   "cell_type": "markdown",
   "metadata": {},
   "source": [
    "str.istitle(): Retorna True se a string for um título (inicia cada palavra com maiúsculas)."
   ]
  },
  {
   "cell_type": "code",
   "execution_count": 32,
   "metadata": {},
   "outputs": [
    {
     "name": "stdout",
     "output_type": "stream",
     "text": [
      "True\n",
      "False\n"
     ]
    }
   ],
   "source": [
    "# str.istitle()\n",
    "titulo1 = \"Hello World\"\n",
    "titulo2 = \"Hello world\"\n",
    "print(titulo1.istitle())  # Saída: True\n",
    "print(titulo2.istitle())  # Saída: False"
   ]
  },
  {
   "cell_type": "markdown",
   "metadata": {},
   "source": [
    "str.isupper(): Retorna True se todos os caracteres na string estiverem em maiúsculas."
   ]
  },
  {
   "cell_type": "code",
   "execution_count": 33,
   "metadata": {},
   "outputs": [
    {
     "name": "stdout",
     "output_type": "stream",
     "text": [
      "True\n",
      "False\n"
     ]
    }
   ],
   "source": [
    "# str.isupper()\n",
    "texto1 = \"HELLO\"\n",
    "texto2 = \"Hello\"\n",
    "print(texto1.isupper())  # Saída: True\n",
    "print(texto2.isupper())  # Saída: False"
   ]
  },
  {
   "cell_type": "markdown",
   "metadata": {},
   "source": [
    "str.join(iterable): Concatena uma lista de strings usando a string atual como separador."
   ]
  },
  {
   "cell_type": "code",
   "execution_count": 34,
   "metadata": {},
   "outputs": [
    {
     "name": "stdout",
     "output_type": "stream",
     "text": [
      "a-b-c\n"
     ]
    }
   ],
   "source": [
    "# str.join(iterable)\n",
    "lista = ['a', 'b', 'c']\n",
    "texto = '-'.join(lista)\n",
    "print(texto)  # Saída: \"a-b-c\""
   ]
  },
  {
   "cell_type": "markdown",
   "metadata": {},
   "source": [
    "str.ljust(width[, fillchar]): Retorna uma cópia da string justificada à esquerda em uma largura de campo especificada. Preenche com caracteres opcionais fillchar (espaço por padrão)."
   ]
  },
  {
   "cell_type": "code",
   "execution_count": 35,
   "metadata": {},
   "outputs": [
    {
     "name": "stdout",
     "output_type": "stream",
     "text": [
      "Python****\n"
     ]
    }
   ],
   "source": [
    "# str.ljust(width[, fillchar])\n",
    "texto = \"Python\"\n",
    "resultado = texto.ljust(10, '*')\n",
    "print(resultado)  # Saída: \"Python****\""
   ]
  },
  {
   "cell_type": "markdown",
   "metadata": {},
   "source": [
    "str.lower(): Retorna uma cópia da string com todos os caracteres em minúscula."
   ]
  },
  {
   "cell_type": "code",
   "execution_count": 36,
   "metadata": {},
   "outputs": [
    {
     "name": "stdout",
     "output_type": "stream",
     "text": [
      "hello world\n"
     ]
    }
   ],
   "source": [
    "# str.lower()\n",
    "texto = \"Hello World\"\n",
    "resultado = texto.lower()\n",
    "print(resultado)  # Saída: \"hello world\""
   ]
  },
  {
   "cell_type": "markdown",
   "metadata": {},
   "source": [
    "str.lstrip([chars]): Retorna uma cópia da string sem os caracteres especificados à esquerda."
   ]
  },
  {
   "cell_type": "code",
   "execution_count": 38,
   "metadata": {},
   "outputs": [
    {
     "name": "stdout",
     "output_type": "stream",
     "text": [
      "Hello   \n",
      "Hello----\n"
     ]
    }
   ],
   "source": [
    "# str.lstrip([chars])\n",
    "texto = \"   Hello   \"\n",
    "texto1 = \"----Hello----\"\n",
    "resultado = texto.lstrip()\n",
    "resultado1 = texto1.lstrip(\"-\")\n",
    "print(resultado)  # Saída: \"Hello   \"\n",
    "print(resultado1)  # Saída: \"Hello----\""
   ]
  },
  {
   "cell_type": "markdown",
   "metadata": {},
   "source": [
    "str.maketrans(x[, y[, z]]): Retorna uma tabela de tradução para usar com o método translate."
   ]
  },
  {
   "cell_type": "code",
   "execution_count": 40,
   "metadata": {},
   "outputs": [
    {
     "name": "stdout",
     "output_type": "stream",
     "text": [
      "Olá, M5nd4!\n"
     ]
    }
   ],
   "source": [
    "# str.maketrans(x[, y[, z]])\n",
    "tabela = str.maketrans('aeiou', '12345')\n",
    "texto = \"Olá, Mundo!\"\n",
    "resultado = texto.translate(tabela)\n",
    "print(resultado)  # Saída: \"Ol1, M5nd4!\""
   ]
  },
  {
   "cell_type": "markdown",
   "metadata": {},
   "source": [
    "str.partition(sep): Divide a string em três partes usando o separador sep."
   ]
  },
  {
   "cell_type": "code",
   "execution_count": 41,
   "metadata": {},
   "outputs": [
    {
     "name": "stdout",
     "output_type": "stream",
     "text": [
      "('Hello', ',', ' World!')\n",
      "<class 'tuple'>\n"
     ]
    }
   ],
   "source": [
    "# str.partition(sep)\n",
    "texto = \"Hello, World!\"\n",
    "resultado = texto.partition(',')\n",
    "print(resultado)  # Saída: ('Hello', ',', ' World!')\n",
    "print(type(resultado))"
   ]
  },
  {
   "cell_type": "markdown",
   "metadata": {},
   "source": [
    "str.removeprefix(prefix[, /]): Remove o prefixo especificado da string."
   ]
  },
  {
   "cell_type": "code",
   "execution_count": 42,
   "metadata": {},
   "outputs": [
    {
     "name": "stdout",
     "output_type": "stream",
     "text": [
      "World!\n"
     ]
    }
   ],
   "source": [
    "# str.removeprefix(prefix[, /])\n",
    "texto = \"Hello, World!\"\n",
    "resultado = texto.removeprefix(\"Hello, \")\n",
    "print(resultado)  # Saída: \"World!\""
   ]
  },
  {
   "cell_type": "markdown",
   "metadata": {},
   "source": [
    "str.removesuffix(suffix[, /]): Remove o sufixo especificado da string."
   ]
  },
  {
   "cell_type": "code",
   "execution_count": 43,
   "metadata": {},
   "outputs": [
    {
     "name": "stdout",
     "output_type": "stream",
     "text": [
      "Hello\n"
     ]
    }
   ],
   "source": [
    "# str.removesuffix(suffix[, /])\n",
    "texto = \"Hello, World!\"\n",
    "resultado = texto.removesuffix(\", World!\")\n",
    "print(resultado)  # Saída: \"Hello\""
   ]
  },
  {
   "cell_type": "markdown",
   "metadata": {},
   "source": [
    "str.replace(old, new[, count]): Retorna uma cópia da string com todas as ocorrências de old substituídas por new."
   ]
  },
  {
   "cell_type": "code",
   "execution_count": 44,
   "metadata": {},
   "outputs": [
    {
     "name": "stdout",
     "output_type": "stream",
     "text": [
      "Hi, World!\n"
     ]
    }
   ],
   "source": [
    "# str.replace(old, new[, count])\n",
    "texto = \"Hello, World!\"\n",
    "resultado = texto.replace(\"Hello\", \"Hi\")\n",
    "print(resultado)  # Saída: \"Hi, World!\""
   ]
  },
  {
   "cell_type": "markdown",
   "metadata": {},
   "source": [
    "str.rfind(sub[, start[, end]]): Similar a str.find, mas começa a busca pelo final da string."
   ]
  },
  {
   "cell_type": "code",
   "execution_count": 45,
   "metadata": {},
   "outputs": [
    {
     "name": "stdout",
     "output_type": "stream",
     "text": [
      "8\n"
     ]
    }
   ],
   "source": [
    "# str.rfind(sub[, start[, end]])\n",
    "texto = \"Hello, World!\"\n",
    "indice = texto.rfind('o')\n",
    "print(indice)  # Saída: 8"
   ]
  },
  {
   "cell_type": "markdown",
   "metadata": {},
   "source": [
    "str.rindex(sub[, start[, end]]): Similar a str.rfind, mas gera uma exceção ValueError se sub não for encontrado."
   ]
  },
  {
   "cell_type": "code",
   "execution_count": 46,
   "metadata": {},
   "outputs": [
    {
     "name": "stdout",
     "output_type": "stream",
     "text": [
      "8\n"
     ]
    }
   ],
   "source": [
    "# str.rindex(sub[, start[, end]])\n",
    "texto = \"Hello, World!\"\n",
    "indice = texto.rindex('o')\n",
    "print(indice)  # Saída: 8"
   ]
  },
  {
   "cell_type": "markdown",
   "metadata": {},
   "source": [
    "str.rjust(width[, fillchar]): Retorna uma cópia da string justificada à direita em uma largura de campo especificada. Preenche com caracteres opcionais fillchar (espaço por padrão)."
   ]
  },
  {
   "cell_type": "code",
   "execution_count": 47,
   "metadata": {},
   "outputs": [
    {
     "name": "stdout",
     "output_type": "stream",
     "text": [
      "****Python\n"
     ]
    }
   ],
   "source": [
    "# str.rjust(width[, fillchar])\n",
    "texto = \"Python\"\n",
    "resultado = texto.rjust(10, '*')\n",
    "print(resultado)  # Saída: \"****Python\""
   ]
  },
  {
   "cell_type": "markdown",
   "metadata": {},
   "source": [
    "str.rsplit(sep=None, maxsplit=-1): Divide a string em uma lista de substrings, começando pela direita."
   ]
  },
  {
   "cell_type": "code",
   "execution_count": 48,
   "metadata": {},
   "outputs": [
    {
     "name": "stdout",
     "output_type": "stream",
     "text": [
      "['Python', 'Programming', 'is', 'Fun']\n"
     ]
    }
   ],
   "source": [
    "# str.rsplit(sep=None, maxsplit=-1)\n",
    "texto = \"Python Programming is Fun\"\n",
    "palavras = texto.rsplit()\n",
    "print(palavras)  # Saída: ['Python', 'Programming', 'is', 'Fun']"
   ]
  },
  {
   "cell_type": "markdown",
   "metadata": {},
   "source": [
    "str.rstrip([chars]): Retorna uma cópia da string sem os caracteres especificados à direita."
   ]
  },
  {
   "cell_type": "code",
   "execution_count": 51,
   "metadata": {},
   "outputs": [
    {
     "name": "stdout",
     "output_type": "stream",
     "text": [
      "@@@@Hello\n"
     ]
    }
   ],
   "source": [
    "# str.rstrip([chars])\n",
    "texto = \"@@@@Hello@@@@\"\n",
    "resultado = texto.rstrip(\"@\")\n",
    "print(resultado)  # Saída: \"@@@@Hello\""
   ]
  },
  {
   "cell_type": "markdown",
   "metadata": {},
   "source": [
    "str.split([sep[, maxsplit]]): Divide a string em uma lista de substrings."
   ]
  },
  {
   "cell_type": "code",
   "execution_count": 52,
   "metadata": {},
   "outputs": [
    {
     "name": "stdout",
     "output_type": "stream",
     "text": [
      "['Python', 'Programming', 'is', 'Fun']\n"
     ]
    }
   ],
   "source": [
    "# str.split([sep[, maxsplit]])\n",
    "texto = \"Python Programming is Fun\"\n",
    "palavras = texto.split()\n",
    "print(palavras)  # Saída: ['Python', 'Programming', 'is', 'Fun']"
   ]
  },
  {
   "cell_type": "markdown",
   "metadata": {},
   "source": [
    "str.splitlines([keepends]): Divide a string em uma lista de linhas."
   ]
  },
  {
   "cell_type": "code",
   "execution_count": 53,
   "metadata": {},
   "outputs": [
    {
     "name": "stdout",
     "output_type": "stream",
     "text": [
      "['Hello', 'World']\n"
     ]
    }
   ],
   "source": [
    "# str.splitlines([keepends])\n",
    "texto = \"Hello\\nWorld\"\n",
    "linhas = texto.splitlines()\n",
    "print(linhas)  # Saída: ['Hello', 'World']"
   ]
  },
  {
   "cell_type": "markdown",
   "metadata": {},
   "source": [
    "str.startswith(prefix[, start[, end]]): Verifica se a string começa com o prefixo especificado."
   ]
  },
  {
   "cell_type": "code",
   "execution_count": 54,
   "metadata": {},
   "outputs": [
    {
     "name": "stdout",
     "output_type": "stream",
     "text": [
      "True\n"
     ]
    }
   ],
   "source": [
    "# str.startswith(prefix[, start[, end]])\n",
    "texto = \"Hello, World!\"\n",
    "resultado = texto.startswith(\"Hello\")\n",
    "print(resultado)  # Saída: True"
   ]
  },
  {
   "cell_type": "markdown",
   "metadata": {},
   "source": [
    "str.strip([chars]): Retorna uma cópia da string sem os caracteres especificados no início ou no final."
   ]
  },
  {
   "cell_type": "code",
   "execution_count": 56,
   "metadata": {},
   "outputs": [
    {
     "name": "stdout",
     "output_type": "stream",
     "text": [
      "Hello\n"
     ]
    }
   ],
   "source": [
    "# str.strip([chars])\n",
    "texto = \"XXXXXXHelloXXXXXXX\"\n",
    "resultado = texto.strip(\"X\")\n",
    "print(resultado)  # Saída: \"Hello\""
   ]
  },
  {
   "cell_type": "markdown",
   "metadata": {},
   "source": [
    "str.swapcase(): Retorna uma cópia da string com maiúsculas trocadas por minúsculas e vice-versa."
   ]
  },
  {
   "cell_type": "code",
   "execution_count": 57,
   "metadata": {},
   "outputs": [
    {
     "name": "stdout",
     "output_type": "stream",
     "text": [
      "hELLO, wORLD!\n"
     ]
    }
   ],
   "source": [
    "# str.swapcase()\n",
    "texto = \"Hello, World!\"\n",
    "resultado = texto.swapcase()\n",
    "print(resultado)  # Saída: \"hELLO, wORLD!\""
   ]
  },
  {
   "cell_type": "markdown",
   "metadata": {},
   "source": [
    "str.title(): Retorna uma cópia da string com a primeira letra de cada palavra em maiúscula."
   ]
  },
  {
   "cell_type": "code",
   "execution_count": 58,
   "metadata": {},
   "outputs": [
    {
     "name": "stdout",
     "output_type": "stream",
     "text": [
      "Hello, World!\n"
     ]
    }
   ],
   "source": [
    "# str.title()\n",
    "texto = \"hello, world!\"\n",
    "resultado = texto.title()\n",
    "print(resultado)  # Saída: \"Hello, World!\""
   ]
  },
  {
   "cell_type": "markdown",
   "metadata": {},
   "source": [
    "str.translate(table[, deletechars]): Aplica uma tabela de tradução para mapear caracteres."
   ]
  },
  {
   "cell_type": "code",
   "execution_count": 60,
   "metadata": {},
   "outputs": [
    {
     "name": "stdout",
     "output_type": "stream",
     "text": [
      "Olá, M5nd4!\n"
     ]
    }
   ],
   "source": [
    "# str.translate(table[, deletechars])\n",
    "tabela = str.maketrans('aeiou', '12345')\n",
    "texto = \"Olá, Mundo!\"\n",
    "resultado = texto.translate(tabela)\n",
    "print(resultado)  # Saída: \"Ol1, M5nd4!\""
   ]
  },
  {
   "cell_type": "markdown",
   "metadata": {},
   "source": [
    "str.upper(): Retorna uma cópia da string com todos os caracteres em maiúscula."
   ]
  },
  {
   "cell_type": "code",
   "execution_count": 61,
   "metadata": {},
   "outputs": [
    {
     "name": "stdout",
     "output_type": "stream",
     "text": [
      "HELLO, WORLD!\n"
     ]
    }
   ],
   "source": [
    "# str.upper()\n",
    "texto = \"hello, world!\"\n",
    "resultado = texto.upper()\n",
    "print(resultado)  # Saída: \"HELLO, WORLD!\""
   ]
  },
  {
   "cell_type": "markdown",
   "metadata": {},
   "source": [
    "str.zfill(width): Retorna uma cópia da string preenchida com zeros à esquerda até atingir a largura especificada."
   ]
  },
  {
   "cell_type": "code",
   "execution_count": 62,
   "metadata": {},
   "outputs": [
    {
     "name": "stdout",
     "output_type": "stream",
     "text": [
      "00042\n"
     ]
    }
   ],
   "source": [
    "# str.zfill(width)\n",
    "numero = \"42\"\n",
    "resultado = numero.zfill(5)\n",
    "print(resultado)  # Saída: \"00042\""
   ]
  }
 ],
 "metadata": {
  "kernelspec": {
   "display_name": "DSA-python",
   "language": "python",
   "name": "python3"
  },
  "language_info": {
   "codemirror_mode": {
    "name": "ipython",
    "version": 3
   },
   "file_extension": ".py",
   "mimetype": "text/x-python",
   "name": "python",
   "nbconvert_exporter": "python",
   "pygments_lexer": "ipython3",
   "version": "3.10.10"
  }
 },
 "nbformat": 4,
 "nbformat_minor": 2
}
