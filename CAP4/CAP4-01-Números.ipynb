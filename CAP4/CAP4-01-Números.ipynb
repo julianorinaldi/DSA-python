{
 "cells": [
  {
   "cell_type": "code",
   "execution_count": 4,
   "metadata": {},
   "outputs": [
    {
     "name": "stdout",
     "output_type": "stream",
     "text": [
      "Estamos usando a versão do Python 3.10.10\n"
     ]
    }
   ],
   "source": [
    "from platform import python_version\n",
    "\n",
    "print('Estamos usando a versão do Python', python_version())"
   ]
  },
  {
   "cell_type": "markdown",
   "metadata": {},
   "source": [
    "# Teste de atribuição"
   ]
  },
  {
   "cell_type": "code",
   "execution_count": 5,
   "metadata": {},
   "outputs": [],
   "source": [
    "var1 = var2 = var3 = \"Conteúdo da variável\""
   ]
  },
  {
   "cell_type": "code",
   "execution_count": 6,
   "metadata": {},
   "outputs": [
    {
     "name": "stdout",
     "output_type": "stream",
     "text": [
      "Valor da variável var1: Conteúdo da variável\n",
      "Valor da variável var2: Conteúdo da variável\n",
      "Valor da variável var3: Conteúdo da variável\n"
     ]
    }
   ],
   "source": [
    "print(f'Valor da variável var1: {var1}')\n",
    "print(f'Valor da variável var2: {var2}')\n",
    "print(f'Valor da variável var3: {var3}')"
   ]
  },
  {
   "cell_type": "code",
   "execution_count": 8,
   "metadata": {},
   "outputs": [
    {
     "name": "stdout",
     "output_type": "stream",
     "text": [
      "Alteração do conteúdo da var2\n",
      "Valor da variável var2: Outro conteúdo\n"
     ]
    }
   ],
   "source": [
    "print(f'Alteração do conteúdo da var2')\n",
    "var2 = \"Outro conteúdo\"\n",
    "print(f'Valor da variável var2: {var2}')"
   ]
  },
  {
   "cell_type": "code",
   "execution_count": 9,
   "metadata": {},
   "outputs": [
    {
     "name": "stdout",
     "output_type": "stream",
     "text": [
      "Valor da variável var1: Conteúdo da variável\n",
      "Valor da variável var2: Outro conteúdo\n",
      "Valor da variável var3: Conteúdo da variável\n"
     ]
    }
   ],
   "source": [
    "print(f'Valor da variável var1: {var1}')\n",
    "print(f'Valor da variável var2: {var2}')\n",
    "print(f'Valor da variável var3: {var3}')"
   ]
  }
 ],
 "metadata": {
  "kernelspec": {
   "display_name": "DSA-python",
   "language": "python",
   "name": "python3"
  },
  "language_info": {
   "codemirror_mode": {
    "name": "ipython",
    "version": 3
   },
   "file_extension": ".py",
   "mimetype": "text/x-python",
   "name": "python",
   "nbconvert_exporter": "python",
   "pygments_lexer": "ipython3",
   "version": "3.10.10"
  }
 },
 "nbformat": 4,
 "nbformat_minor": 2
}
