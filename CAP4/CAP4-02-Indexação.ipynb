{
 "cells": [
  {
   "cell_type": "markdown",
   "metadata": {},
   "source": [
    "# Objetivo desse notebook é entender mais sobre indexação em python"
   ]
  },
  {
   "cell_type": "code",
   "execution_count": 1,
   "metadata": {},
   "outputs": [],
   "source": [
    "var1 = \"Aqui um texto simples em uma variável\"\n"
   ]
  },
  {
   "cell_type": "code",
   "execution_count": 7,
   "metadata": {},
   "outputs": [
    {
     "name": "stdout",
     "output_type": "stream",
     "text": [
      "Objetivo aqui é a mostrar dados a partir do índice 1 até todo o restante\n",
      "Resultado: qui um texto simples em uma variável\n"
     ]
    }
   ],
   "source": [
    "print('Objetivo aqui é a mostrar dados a partir do índice 1 até todo o restante')\n",
    "print(f'Resultado: {var1[1:]}')"
   ]
  },
  {
   "cell_type": "code",
   "execution_count": 8,
   "metadata": {},
   "outputs": [
    {
     "name": "stdout",
     "output_type": "stream",
     "text": [
      "Objetivo aqui é a mostrar dados a partir do índice 0 pois não tem definição de início,\n",
      "porém vai até o índice 3 exclusivo, ou seja, não entra o 3\n",
      "Resultado: Aqu\n"
     ]
    }
   ],
   "source": [
    "print('Objetivo aqui é a mostrar dados a partir do índice 0 pois não tem definição de início,\\n'+\n",
    "      'porém vai até o índice 3 exclusivo, ou seja, não entra o 3')\n",
    "print(f'Resultado: {var1[:3]}')"
   ]
  },
  {
   "cell_type": "code",
   "execution_count": 9,
   "metadata": {},
   "outputs": [
    {
     "name": "stdout",
     "output_type": "stream",
     "text": [
      "Pode-se usar a indexação negativa que faz com que leia de trás para frente\n",
      "Resultado: l\n"
     ]
    }
   ],
   "source": [
    "print('Pode-se usar a indexação negativa que faz com que leia de trás para frente')\n",
    "print(f'Resultado: {var1[-1]}')"
   ]
  },
  {
   "cell_type": "code",
   "execution_count": 10,
   "metadata": {},
   "outputs": [
    {
     "name": "stdout",
     "output_type": "stream",
     "text": [
      "Pode-se usar a indexação considerando o passo que ela vai pular\n",
      "Resultado: Au mtxosmlse m aivl\n"
     ]
    }
   ],
   "source": [
    "print('Pode-se usar a indexação considerando o passo que ela vai pular')\n",
    "print(f'Resultado: {var1[::2]}')"
   ]
  },
  {
   "cell_type": "code",
   "execution_count": 12,
   "metadata": {},
   "outputs": [
    {
     "name": "stdout",
     "output_type": "stream",
     "text": [
      "Resultado: Pnpa,rtur,rtu \n"
     ]
    }
   ],
   "source": [
    "var1 = \"Print pula 2, print pular 2, print pula 2\"\n",
    "print(f'Resultado: {var1[::3]}')"
   ]
  }
 ],
 "metadata": {
  "kernelspec": {
   "display_name": "DSA-python",
   "language": "python",
   "name": "python3"
  },
  "language_info": {
   "codemirror_mode": {
    "name": "ipython",
    "version": 3
   },
   "file_extension": ".py",
   "mimetype": "text/x-python",
   "name": "python",
   "nbconvert_exporter": "python",
   "pygments_lexer": "ipython3",
   "version": "3.10.10"
  }
 },
 "nbformat": 4,
 "nbformat_minor": 2
}
