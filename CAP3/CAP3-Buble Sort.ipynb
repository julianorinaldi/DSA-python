{
 "cells": [
  {
   "cell_type": "markdown",
   "id": "d886ffbb",
   "metadata": {},
   "source": [
    "# Buble Sort - Primeiro exemplo para aprendizado de python "
   ]
  },
  {
   "cell_type": "code",
   "execution_count": 9,
   "id": "d7f12e96",
   "metadata": {},
   "outputs": [
    {
     "name": "stdout",
     "output_type": "stream",
     "text": [
      "Vamos a implementar o algoritmo de Buble Sort\n",
      "[3, 5, 1, 2, 10, 2, 4, 6, 8, 9]\n"
     ]
    }
   ],
   "source": [
    "print('Vamos a implementar o algoritmo de Buble Sort')\n",
    "lista = [3,5,1,2,10,2,4,6,8,9]\n",
    "print(lista)"
   ]
  },
  {
   "cell_type": "code",
   "execution_count": 15,
   "id": "f72633e1",
   "metadata": {},
   "outputs": [],
   "source": [
    "def BubleSort(lista):\n",
    "    print('Lista sem ordenação...')\n",
    "    print(lista)\n",
    "    print('Ordenando a lista...')\n",
    "    for j in range(0, len(lista)-1):\n",
    "        for i in range(0, len(lista)-1):\n",
    "            if lista[i] > lista[i+1]:\n",
    "                aux = lista[i]\n",
    "                lista[i] = lista[i+1]\n",
    "                lista[i+1] = aux\n",
    "\n",
    "    print('Lista ordenada: ')\n",
    "    print(lista)\n",
    "    "
   ]
  },
  {
   "cell_type": "code",
   "execution_count": 16,
   "id": "14a919e3",
   "metadata": {},
   "outputs": [
    {
     "name": "stdout",
     "output_type": "stream",
     "text": [
      "Lista sem ordenação...\n",
      "[2, 65, 3, 1, 2, 665, 3, 2, 4, 3, 2, 1, 3, 0, 543, 2, 1, 2, 5, 6, 7, 6, 4, 6, 8]\n",
      "Ordenando a lista...\n",
      "Lista ordenada: \n",
      "[0, 1, 1, 1, 2, 2, 2, 2, 2, 2, 3, 3, 3, 3, 4, 4, 5, 6, 6, 6, 7, 8, 65, 543, 665]\n"
     ]
    }
   ],
   "source": [
    "lista2 = [2,65,3,1,2,665,3,2,4,3,2,1,3,0,543,2,1,2,5,6,7,6,4,6,8]\n",
    "BubleSort(lista2)"
   ]
  }
 ],
 "metadata": {
  "kernelspec": {
   "display_name": "DSA-python",
   "language": "python",
   "name": "python3"
  },
  "language_info": {
   "codemirror_mode": {
    "name": "ipython",
    "version": 3
   },
   "file_extension": ".py",
   "mimetype": "text/x-python",
   "name": "python",
   "nbconvert_exporter": "python",
   "pygments_lexer": "ipython3",
   "version": "3.10.10"
  }
 },
 "nbformat": 4,
 "nbformat_minor": 5
}
